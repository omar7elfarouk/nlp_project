{
 "cells": [
  {
   "cell_type": "code",
   "execution_count": 1,
   "id": "26d35415-6173-4a88-ad55-f2733f6ef4b4",
   "metadata": {},
   "outputs": [],
   "source": [
    "from transformers import MarianMTModel, MarianTokenizer, Seq2SeqTrainer, Seq2SeqTrainingArguments\n",
    "from datasets import load_dataset\n",
    "from evaluate import load as load_metric\n",
    "import torch\n",
    "import re"
   ]
  },
  {
   "cell_type": "code",
   "execution_count": 2,
   "id": "d1dd73fe-6560-45b6-9f10-5c47d4e79982",
   "metadata": {},
   "outputs": [],
   "source": [
    "# ========== Load and Split Dataset ==========\n",
    "dataset = load_dataset(\"opus100\", \"ar-en\", split=\"train[:2000]\")\n",
    "split_dataset = dataset.train_test_split(test_size=0.1, seed=42)\n",
    "train_dataset = split_dataset[\"train\"]\n",
    "test_dataset = split_dataset[\"test\"]"
   ]
  },
  {
   "cell_type": "code",
   "execution_count": 3,
   "id": "8033b1d0-607d-4463-bd25-f544ed7295e2",
   "metadata": {},
   "outputs": [],
   "source": [
    "# ========== Text Cleaning and Normalization ==========\n",
    "def normalize_arabic(text):\n",
    "    text = re.sub(\"[إأآا]\", \"ا\", text)\n",
    "    text = re.sub(\"ى\", \"ي\", text)\n",
    "    text = re.sub(\"ؤ\", \"و\", text)\n",
    "    text = re.sub(\"ئ\", \"ي\", text)\n",
    "    text = re.sub(\"ة\", \"ه\", text)\n",
    "    text = re.sub(\"[ًٌٍَُِّْـ]\", \"\", text)\n",
    "    return text.strip()\n",
    "\n",
    "def clean_english(text):\n",
    "    return text.strip().lower()"
   ]
  },
  {
   "cell_type": "code",
   "execution_count": 4,
   "id": "c01e5b1a-9705-41fb-857d-2ad51207673c",
   "metadata": {},
   "outputs": [
    {
     "name": "stderr",
     "output_type": "stream",
     "text": [
      "C:\\Users\\PC\\anaconda3\\Lib\\site-packages\\transformers\\models\\marian\\tokenization_marian.py:175: UserWarning: Recommended: pip install sacremoses.\n",
      "  warnings.warn(\"Recommended: pip install sacremoses.\")\n"
     ]
    }
   ],
   "source": [
    "# ========== Load Tokenizer and Model ==========\n",
    "model_name = \"Helsinki-NLP/opus-mt-ar-en\"\n",
    "tokenizer = MarianTokenizer.from_pretrained(model_name)\n",
    "model = MarianMTModel.from_pretrained(model_name)\n",
    "model.config.pad_token_id = tokenizer.pad_token_id  "
   ]
  },
  {
   "cell_type": "code",
   "execution_count": 5,
   "id": "39acd134-271a-4567-8151-1b10d5c13f4f",
   "metadata": {},
   "outputs": [],
   "source": [
    "# ========== Preprocessing ==========\n",
    "def preprocess(example):\n",
    "    input_text = normalize_arabic(example[\"translation\"][\"ar\"])\n",
    "    target_text = clean_english(example[\"translation\"][\"en\"])\n",
    "    \n",
    "    model_inputs = tokenizer(input_text, max_length=128, truncation=True, padding=\"max_length\")\n",
    "    labels = tokenizer(target_text, max_length=128, truncation=True, padding=\"max_length\").input_ids\n",
    "    labels = [label if label != tokenizer.pad_token_id else -100 for label in labels]\n",
    "    \n",
    "    model_inputs[\"labels\"] = labels\n",
    "    return model_inputs\n",
    "# ========== Tokenize ==========\n",
    "tokenized_train = train_dataset.map(preprocess, remove_columns=train_dataset.column_names)\n",
    "tokenized_test = test_dataset.map(preprocess, remove_columns=test_dataset.column_names)"
   ]
  },
  {
   "cell_type": "code",
   "execution_count": 6,
   "id": "b0a7b882-fdc4-4ec9-9046-cb9d067b7789",
   "metadata": {},
   "outputs": [
    {
     "name": "stderr",
     "output_type": "stream",
     "text": [
      "C:\\Users\\PC\\anaconda3\\Lib\\site-packages\\transformers\\training_args.py:1575: FutureWarning: `evaluation_strategy` is deprecated and will be removed in version 4.46 of 🤗 Transformers. Use `eval_strategy` instead\n",
      "  warnings.warn(\n",
      "C:\\Users\\PC\\AppData\\Local\\Temp\\ipykernel_15472\\3289972838.py:15: FutureWarning: `tokenizer` is deprecated and will be removed in version 5.0.0 for `Seq2SeqTrainer.__init__`. Use `processing_class` instead.\n",
      "  trainer = Seq2SeqTrainer(\n",
      "C:\\Users\\PC\\anaconda3\\Lib\\site-packages\\torch\\utils\\data\\dataloader.py:665: UserWarning: 'pin_memory' argument is set as true but no accelerator is found, then device pinned memory won't be used.\n",
      "  warnings.warn(warn_msg)\n"
     ]
    },
    {
     "data": {
      "text/html": [
       "\n",
       "    <div>\n",
       "      \n",
       "      <progress value='1350' max='1350' style='width:300px; height:20px; vertical-align: middle;'></progress>\n",
       "      [1350/1350 30:57, Epoch 3/3]\n",
       "    </div>\n",
       "    <table border=\"1\" class=\"dataframe\">\n",
       "  <thead>\n",
       " <tr style=\"text-align: left;\">\n",
       "      <th>Epoch</th>\n",
       "      <th>Training Loss</th>\n",
       "      <th>Validation Loss</th>\n",
       "    </tr>\n",
       "  </thead>\n",
       "  <tbody>\n",
       "    <tr>\n",
       "      <td>1</td>\n",
       "      <td>2.615300</td>\n",
       "      <td>2.163860</td>\n",
       "    </tr>\n",
       "    <tr>\n",
       "      <td>2</td>\n",
       "      <td>1.831500</td>\n",
       "      <td>1.976511</td>\n",
       "    </tr>\n",
       "    <tr>\n",
       "      <td>3</td>\n",
       "      <td>1.581500</td>\n",
       "      <td>1.930648</td>\n",
       "    </tr>\n",
       "  </tbody>\n",
       "</table><p>"
      ],
      "text/plain": [
       "<IPython.core.display.HTML object>"
      ]
     },
     "metadata": {},
     "output_type": "display_data"
    },
    {
     "name": "stderr",
     "output_type": "stream",
     "text": [
      "C:\\Users\\PC\\anaconda3\\Lib\\site-packages\\transformers\\modeling_utils.py:2758: UserWarning: Moving the following attributes in the config to the generation config: {'max_length': 512, 'num_beams': 4, 'bad_words_ids': [[62833]]}. You are seeing this warning because you've set generation parameters in the model config, as opposed to in the generation config.\n",
      "  warnings.warn(\n",
      "C:\\Users\\PC\\anaconda3\\Lib\\site-packages\\torch\\utils\\data\\dataloader.py:665: UserWarning: 'pin_memory' argument is set as true but no accelerator is found, then device pinned memory won't be used.\n",
      "  warnings.warn(warn_msg)\n",
      "C:\\Users\\PC\\anaconda3\\Lib\\site-packages\\torch\\utils\\data\\dataloader.py:665: UserWarning: 'pin_memory' argument is set as true but no accelerator is found, then device pinned memory won't be used.\n",
      "  warnings.warn(warn_msg)\n"
     ]
    },
    {
     "data": {
      "text/plain": [
       "TrainOutput(global_step=1350, training_loss=2.106094982005932, metrics={'train_runtime': 1858.9898, 'train_samples_per_second': 2.905, 'train_steps_per_second': 0.726, 'total_flos': 183051170611200.0, 'train_loss': 2.106094982005932, 'epoch': 3.0})"
      ]
     },
     "execution_count": 6,
     "metadata": {},
     "output_type": "execute_result"
    }
   ],
   "source": [
    "# ========== Training Arguments ==========\n",
    "training_args = Seq2SeqTrainingArguments(\n",
    "    output_dir=\"./opus-mt-ar-en-finetuned\",\n",
    "    evaluation_strategy=\"epoch\",\n",
    "    learning_rate=3e-5,\n",
    "    per_device_train_batch_size=4,\n",
    "    num_train_epochs=3,\n",
    "    predict_with_generate=True,\n",
    "    save_total_limit=2,\n",
    "    logging_steps=100,\n",
    "    fp16=torch.cuda.is_available()\n",
    ")\n",
    "\n",
    "# ========== Trainer ==========\n",
    "trainer = Seq2SeqTrainer(\n",
    "    model=model,\n",
    "    args=training_args,\n",
    "    train_dataset=tokenized_train,\n",
    "    eval_dataset=tokenized_test,\n",
    "    tokenizer=tokenizer\n",
    ")\n",
    "\n",
    "# ========== Train ==========\n",
    "trainer.train()"
   ]
  },
  {
   "cell_type": "code",
   "execution_count": 7,
   "id": "e71c904d-84f1-477f-9d9a-eae64951f11e",
   "metadata": {},
   "outputs": [
    {
     "data": {
      "text/plain": [
       "('./opus-mt-ar-en-finetuned\\\\tokenizer_config.json',\n",
       " './opus-mt-ar-en-finetuned\\\\special_tokens_map.json',\n",
       " './opus-mt-ar-en-finetuned\\\\vocab.json',\n",
       " './opus-mt-ar-en-finetuned\\\\source.spm',\n",
       " './opus-mt-ar-en-finetuned\\\\target.spm',\n",
       " './opus-mt-ar-en-finetuned\\\\added_tokens.json')"
      ]
     },
     "execution_count": 7,
     "metadata": {},
     "output_type": "execute_result"
    }
   ],
   "source": [
    "# ========== Save Model ==========\n",
    "model.save_pretrained(\"./opus-mt-ar-en-finetuned\")\n",
    "tokenizer.save_pretrained(\"./opus-mt-ar-en-finetuned\")"
   ]
  },
  {
   "cell_type": "code",
   "execution_count": 8,
   "id": "e846e743-ab9f-4b22-99aa-d6325a650aaa",
   "metadata": {},
   "outputs": [
    {
     "name": "stdout",
     "output_type": "stream",
     "text": [
      "BLEU score on test set: 27.532652110067787\n"
     ]
    }
   ],
   "source": [
    "# ========== BLEU Evaluation on Test Set ==========\n",
    "metric = load_metric(\"sacrebleu\")\n",
    "device = \"cuda\" if torch.cuda.is_available() else \"cpu\"\n",
    "model.to(device)\n",
    "\n",
    "def compute_bleu_batched(test_dataset, batch_size=8):\n",
    "    inputs = [normalize_arabic(ex[\"translation\"][\"ar\"]) for ex in test_dataset]\n",
    "    references = [[clean_english(ex[\"translation\"][\"en\"])] for ex in test_dataset]\n",
    "\n",
    "    translations = []\n",
    "    for i in range(0, len(inputs), batch_size):\n",
    "        batch_texts = inputs[i:i + batch_size]\n",
    "        tokens = tokenizer(batch_texts, return_tensors=\"pt\", padding=True, truncation=True).to(device)\n",
    "        outputs = model.generate(**tokens, max_length=128)\n",
    "        decoded = tokenizer.batch_decode(outputs, skip_special_tokens=True)\n",
    "        translations.extend([t.strip().lower() for t in decoded])\n",
    "\n",
    "    results = metric.compute(predictions=translations, references=references)\n",
    "    print(\"BLEU score on test set:\", results[\"score\"])\n",
    "\n",
    "compute_bleu_batched(test_dataset)"
   ]
  },
  {
   "cell_type": "code",
   "execution_count": 9,
   "id": "bcae14eb-2461-4f60-b48e-b5c3965888e3",
   "metadata": {},
   "outputs": [],
   "source": [
    "# ========== Translation Example ==========\n",
    "def translate(text):\n",
    "    input_text = normalize_arabic(text)\n",
    "    inputs = tokenizer(input_text, return_tensors=\"pt\", truncation=True, padding=True).to(device)\n",
    "    output = model.generate(**inputs, max_length=128)\n",
    "    return tokenizer.decode(output[0], skip_special_tokens=True)\n"
   ]
  },
  {
   "cell_type": "code",
   "execution_count": 10,
   "id": "2c163401-4da9-400e-b3c4-a64c08af57dc",
   "metadata": {},
   "outputs": [
    {
     "name": "stdout",
     "output_type": "stream",
     "text": [
      "\n",
      "Translation example:\n",
      "can we go?\n"
     ]
    }
   ],
   "source": [
    "# Example\n",
    "print(\"\\nTranslation example:\")\n",
    "print(translate(\"هل نستطيع أن نذهب؟\"))"
   ]
  },
  {
   "cell_type": "code",
   "execution_count": 11,
   "id": "3f2a1c54-bc07-49a1-a2d1-b80f94b1e25f",
   "metadata": {},
   "outputs": [
    {
     "name": "stdout",
     "output_type": "stream",
     "text": [
      "\n",
      "Translation example:\n",
      "i know that.\n"
     ]
    }
   ],
   "source": [
    "# Example\n",
    "print(\"\\nTranslation example:\")\n",
    "print(translate(\"أعلم ذلك\"))"
   ]
  },
  {
   "cell_type": "code",
   "execution_count": 12,
   "id": "c4f8de96-0011-439e-822e-24d79ae5a300",
   "metadata": {},
   "outputs": [
    {
     "name": "stdout",
     "output_type": "stream",
     "text": [
      "\n",
      "Translation example:\n",
      "you can't swim here.\n"
     ]
    }
   ],
   "source": [
    "# Example\n",
    "print(\"\\nTranslation example:\")\n",
    "print(translate(\"لا تستطيع السباحة هنا\"))"
   ]
  },
  {
   "cell_type": "code",
   "execution_count": 14,
   "id": "84edd353-4f5b-40ec-b77f-14cc1dcbc6c4",
   "metadata": {},
   "outputs": [
    {
     "name": "stderr",
     "output_type": "stream",
     "text": [
      "C:\\Users\\PC\\anaconda3\\Lib\\site-packages\\transformers\\models\\marian\\tokenization_marian.py:175: UserWarning: Recommended: pip install sacremoses.\n",
      "  warnings.warn(\"Recommended: pip install sacremoses.\")\n"
     ]
    },
    {
     "name": "stdout",
     "output_type": "stream",
     "text": [
      "* Running on local URL:  http://127.0.0.1:7860\n",
      "* To create a public link, set `share=True` in `launch()`.\n"
     ]
    },
    {
     "data": {
      "text/html": [
       "<div><iframe src=\"http://127.0.0.1:7860/\" width=\"100%\" height=\"500\" allow=\"autoplay; camera; microphone; clipboard-read; clipboard-write;\" frameborder=\"0\" allowfullscreen></iframe></div>"
      ],
      "text/plain": [
       "<IPython.core.display.HTML object>"
      ]
     },
     "metadata": {},
     "output_type": "display_data"
    },
    {
     "data": {
      "text/plain": []
     },
     "execution_count": 14,
     "metadata": {},
     "output_type": "execute_result"
    }
   ],
   "source": [
    "import gradio as gr\n",
    "from transformers import AutoTokenizer, AutoModelForSeq2SeqLM\n",
    "\n",
    "# Load tokenizer and model from local files\n",
    "tokenizer = AutoTokenizer.from_pretrained(\"./opus-mt-ar-en-finetuned\", local_files_only=True)\n",
    "model = AutoModelForSeq2SeqLM.from_pretrained(\"./opus-mt-ar-en-finetuned\", local_files_only=True)\n",
    "\n",
    "# Define translation function\n",
    "def translate_text(input_text):\n",
    "    # Encode the text\n",
    "    inputs = tokenizer(input_text, return_tensors=\"pt\", padding=True, truncation=True)\n",
    "    # Generate translation\n",
    "    outputs = model.generate(**inputs, max_length=100)\n",
    "    # Decode the output\n",
    "    translated_text = tokenizer.decode(outputs[0], skip_special_tokens=True)\n",
    "    return translated_text\n",
    "\n",
    "# Create Gradio interface\n",
    "interface = gr.Interface(\n",
    "    fn=translate_text,\n",
    "    inputs=gr.Textbox(lines=3, placeholder=\"Enter text to translate...\"),\n",
    "    outputs=\"text\",\n",
    "    title=\"Translation Model GUI\",\n",
    "    description=\"Enter a sentence and see its translation using your trained Transformer model.\"\n",
    ")\n",
    "\n",
    "interface.launch()\n"
   ]
  },
  {
   "cell_type": "code",
   "execution_count": null,
   "id": "4a12b18f-e42c-4a3a-91d5-1f7f15256ccd",
   "metadata": {},
   "outputs": [],
   "source": []
  }
 ],
 "metadata": {
  "kernelspec": {
   "display_name": "Python [conda env:base] *",
   "language": "python",
   "name": "conda-base-py"
  },
  "language_info": {
   "codemirror_mode": {
    "name": "ipython",
    "version": 3
   },
   "file_extension": ".py",
   "mimetype": "text/x-python",
   "name": "python",
   "nbconvert_exporter": "python",
   "pygments_lexer": "ipython3",
   "version": "3.12.7"
  }
 },
 "nbformat": 4,
 "nbformat_minor": 5
}
